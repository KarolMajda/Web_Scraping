{
 "cells": [
  {
   "cell_type": "code",
   "execution_count": 2,
   "metadata": {},
   "outputs": [],
   "source": [
    "import requests\n",
    "from bs4 import BeautifulSoup"
   ]
  },
  {
   "cell_type": "code",
   "execution_count": 22,
   "metadata": {},
   "outputs": [],
   "source": [
    "date = input(\"Which year do you want to travel to? Type the date in this format YYYY-MM-DD: \")\n",
    "\n",
    "URL = f\"https://www.billboard.com/charts/hot-100/{date}/\"\n",
    "\n",
    "site = requests.get(URL)\n",
    "\n",
    "soup = BeautifulSoup(site.text, 'html.parser')\n",
    "\n",
    "songs = soup.find_all(name='h3', class_=\"a-no-trucate\")\n",
    "\n",
    "song_titles = [song.getText().strip() for song in songs]"
   ]
  },
  {
   "cell_type": "code",
   "execution_count": 23,
   "metadata": {},
   "outputs": [
    {
     "name": "stdout",
     "output_type": "stream",
     "text": [
      "['First Class', 'As It Was', 'Heat Waves', 'Big Energy', 'Enemy', 'Stay', 'Super Gremlin', 'Woman', 'Ghost', 'Thats What I Want', 'abcdefu', 'Bad Habits', 'Right On', 'In A Minute', 'Shivers', 'Cold Heart (PNAU Remix)', 'Easy On Me', \"We Don't Talk About Bruno\", 'Industry Baby', 'Need To Know', 'Levitating', \"'Til You Can't\", 'Save Your Tears', 'One Right Now', 'Bam Bam', 'Hrs And Hrs', 'Never Say Never', 'Good 4 U', 'I Hate U', 'MAMIII', \"Doin' This\", 'AA', 'Sweetest Pie', 'Fingers Crossed', 'Pushin P', 'Wasted On You', 'You Right', 'Fancy Like', 'What Happened To Virgil', 'Nail Tech', 'Beers On Me', 'To The Moon!', 'Light Switch', 'Boyfriend', 'Numb Little Bug', \"Drunk (And I Don't Wanna Go Home)\", 'Buy Dirt', 'Sand In My Boots', 'The Motto', \"She's All I Wanna Be\", 'Slow Down Summer', \"When You're Gone\", 'Peru', 'Handsomer', '23', 'Surface Pressure', 'Circles Around This Town', 'Broadway Girls', 'No Love', 'Freaky Deaky', 'Ahhh Ha', 'London', 'Heart On Fire', 'In My Head', 'Never Wanted To Be That Girl', 'Me Or Sum', 'Flower Shops', 'If I Was A Cowboy', 'Soy El Unico', 'Do We Have A Problem?', 'City Of Gods', 'Nobody Like U', 'Trouble With A Heartbreak', 'Envolver', 'Psychofreak', 'Give Heaven Some Hell', 'Rumors', 'The Family Madrigal', 'Thump Shit', 'Take My Name', 'Treat Me', 'Get Into It (Yuh)', 'To Be Loved By You', 'Come Back As A Country Boy', 'Complete Mess', 'I Love You So', 'Banking On Me', 'Thinking With My Dick', 'Damn Strait', 'She Likes It', 'P Power', 'Pressure', 'Dos Oruguitas', 'Bones', 'Blick Blick!', 'Over', 'Neck & Wrist', 'Desesperados', 'X Ultima Vez', 'Praise The Lord']\n"
     ]
    }
   ],
   "source": [
    "print(song_titles)"
   ]
  }
 ],
 "metadata": {
  "interpreter": {
   "hash": "c18c2ee729c76021a030a434cc517af1d5f25ae4da8fe842493212de1e15757b"
  },
  "kernelspec": {
   "display_name": "Python 3.10.2 64-bit",
   "language": "python",
   "name": "python3"
  },
  "language_info": {
   "codemirror_mode": {
    "name": "ipython",
    "version": 3
   },
   "file_extension": ".py",
   "mimetype": "text/x-python",
   "name": "python",
   "nbconvert_exporter": "python",
   "pygments_lexer": "ipython3",
   "version": "3.10.2"
  },
  "orig_nbformat": 4
 },
 "nbformat": 4,
 "nbformat_minor": 2
}
