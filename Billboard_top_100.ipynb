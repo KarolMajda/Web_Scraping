{
 "cells": [
  {
   "cell_type": "code",
   "execution_count": 2,
   "metadata": {},
   "outputs": [],
   "source": [
    "import requests\n",
    "from bs4 import BeautifulSoup"
   ]
  },
  {
   "cell_type": "code",
   "execution_count": 22,
   "metadata": {},
   "outputs": [],
   "source": [
    "date = input(\"Which year do you want to travel to? Type the date in this format YYYY-MM-DD: \")\n",
    "\n",
    "URL = f\"https://www.billboard.com/charts/hot-100/{date}/\"\n",
    "\n",
    "site = requests.get(URL)\n",
    "\n",
    "soup = BeautifulSoup(site.text, 'html.parser')\n",
    "\n",
    "songs = soup.find_all(name='h3', class_=\"a-no-trucate\")\n",
    "\n",
    "song_titles = [song.getText().strip() for song in songs]"
   ]
  },
  {
   "cell_type": "code",
   "execution_count": null,
   "metadata": {},
   "outputs": [],
   "source": [
    "print(song_titles)"
   ]
  },
  {
   "cell_type": "code",
   "execution_count": null,
   "metadata": {},
   "outputs": [],
   "source": []
  }
 ],
 "metadata": {
  "interpreter": {
   "hash": "c18c2ee729c76021a030a434cc517af1d5f25ae4da8fe842493212de1e15757b"
  },
  "kernelspec": {
   "display_name": "Python 3.10.2 64-bit",
   "language": "python",
   "name": "python3"
  },
  "language_info": {
   "codemirror_mode": {
    "name": "ipython",
    "version": 3
   },
   "file_extension": ".py",
   "mimetype": "text/x-python",
   "name": "python",
   "nbconvert_exporter": "python",
   "pygments_lexer": "ipython3",
   "version": "3.10.2"
  },
  "orig_nbformat": 4
 },
 "nbformat": 4,
 "nbformat_minor": 2
}
