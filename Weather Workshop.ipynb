{
 "cells": [
  {
   "cell_type": "code",
   "execution_count": 1,
   "metadata": {},
   "outputs": [],
   "source": [
    "import requests\n",
    "from bs4 import BeautifulSoup\n",
    "import html5lib\n",
    "import pandas as pd\n",
    "import csv\n",
    "\n",
    "# url = 'https://www.timeanddate.com/weather/?low=c/'\n",
    "\n",
    "url = 'https://www.timeanddate.com/weather/?continent=europe&sort=1&low=c'\n",
    "page = requests.get(url)\n",
    "soup = BeautifulSoup(page.content, \"html.parser\")"
   ]
  },
  {
   "cell_type": "code",
   "execution_count": 2,
   "metadata": {},
   "outputs": [],
   "source": [
    "result = soup.find_all(\"table\", class_ = \"zebra fw tb-theme\")\n",
    "continent_eu = soup.find(\"h3\", class_ = \"tb-header\").text.strip()[39:45]"
   ]
  },
  {
   "cell_type": "code",
   "execution_count": 3,
   "metadata": {},
   "outputs": [],
   "source": [
    "def scrape_eu(source_url,soup):\n",
    "    \n",
    "    country_eu = []\n",
    "    capital_eu = []\n",
    "    max_temperature_eu = []\n",
    "    min_temperature_eu = []\n",
    "    weather_eu = []\n",
    "    humidity_eu = []\n",
    "    uv_index_eu = []\n",
    "    \n",
    "    for x in result:\n",
    "        hrefs = x.find_all(\"a\", href = True)\n",
    "\n",
    "    \n",
    "    for link in hrefs:\n",
    "        url = source_url + link['href']\n",
    "        cr1 = url.split(\"/\")[-2]\n",
    "        cp1 = url.split(\"/\")[-1]\n",
    "\n",
    "        country_eu.append(cr1)\n",
    "        capital_eu.append(cp1)\n",
    "\n",
    "        url_ext = url + '/ext'\n",
    "        tables = pd.read_html(url_ext) # Returns list of all tables on page\n",
    "    \n",
    "        test = []\n",
    "        for table in tables:\n",
    "            test.append(table.iloc[14].values)\n",
    "        \n",
    "        mytest = list(test[0])\n",
    "        \n",
    "        temp1 = mytest[2]\n",
    "        temp2 = temp1.replace(u'\\xa0', u' ')\n",
    "        temp3 = temp2.replace(\" \", \"\")\n",
    "        tempx = [x.strip('°C') for x in temp3.split('/')]\n",
    "\n",
    "        \n",
    "        max_t1 = tempx[0]\n",
    "        min_t1 = tempx[1]\n",
    "        w1 = mytest[3].replace(\".\", \"\")\n",
    "        h1 = mytest[7].replace(\"%\", \"\")\n",
    "        uv_1 = mytest[10][0:1]\n",
    "\n",
    "        \n",
    "        max_temperature_eu.append(max_t1)\n",
    "        min_temperature_eu.append(min_t1)\n",
    "        weather_eu.append(w1)\n",
    "        humidity_eu.append(h1)\n",
    "        uv_index_eu.append(uv_1)\n",
    "\n",
    "        \n",
    "        data = {\n",
    "        \"continent\":continent_eu,\n",
    "        \"country\":country_eu,\n",
    "        \"capital\":capital_eu,\n",
    "        \"max_temperature\":max_temperature_eu,\n",
    "        \"min_temperature\":min_temperature_eu,\n",
    "        \"weather_eu\":weather_eu,\n",
    "        \"humidity\":humidity_eu,\n",
    "        \"UV_index\":uv_index_eu\n",
    "        }\n",
    "        \n",
    "    data = pd.DataFrame(data,columns=[\"continent\",\"country\", \"capital\",\"max_temperature\",\"min_temperature\",\"weather_eu\",\"humidity\",\"UV_index\"])\n",
    "    print(data.columns)\n",
    "    print(data)   \n",
    "   "
   ]
  },
  {
   "cell_type": "code",
   "execution_count": null,
   "metadata": {},
   "outputs": [],
   "source": [
    "scrape_eu(source_url=\"https://www.timeanddate.com\", soup=BeautifulSoup)"
   ]
  }
 ],
 "metadata": {
  "interpreter": {
   "hash": "ff6162a0b0ddbc21821f1dac03a8b3cf94e5a851555d06e2ead7da6335abbc6f"
  },
  "kernelspec": {
   "display_name": "Python 3.10.2 64-bit",
   "language": "python",
   "name": "python3"
  },
  "language_info": {
   "codemirror_mode": {
    "name": "ipython",
    "version": 3
   },
   "file_extension": ".py",
   "mimetype": "text/x-python",
   "name": "python",
   "nbconvert_exporter": "python",
   "pygments_lexer": "ipython3",
   "version": "3.10.2"
  },
  "orig_nbformat": 4
 },
 "nbformat": 4,
 "nbformat_minor": 2
}
