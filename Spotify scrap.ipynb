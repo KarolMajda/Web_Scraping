{
 "cells": [
  {
   "cell_type": "code",
   "execution_count": 29,
   "metadata": {},
   "outputs": [],
   "source": [
    "import sqlalchemy\n",
    "import pandas as pd\n",
    "from sqlalchemy.orm import sessionmaker\n",
    "import requests\n",
    "import json\n",
    "import datetime\n",
    "import sqlite3"
   ]
  },
  {
   "cell_type": "code",
   "execution_count": 27,
   "metadata": {},
   "outputs": [],
   "source": [
    "DATABASE_LOCATION = \"sqllite:///my_played_tracks.sqlite\"\n",
    "USER_ID = \"rezart392\"\n",
    "TOKEN = \"BQChCbIhgqi9HeAUMEFjlKLnaJVIzzbMV6PmPZbYHBfk_6OaspCvh0CaUCRrbx6elKAexom48XOhXMmg980pLHGfHRIO7krWtHR_d3naw2IjnFUw08brcljCndsjNX2FvVUhHoBOlA2TOrE\""
   ]
  },
  {
   "cell_type": "code",
   "execution_count": 41,
   "metadata": {},
   "outputs": [
    {
     "name": "stdout",
     "output_type": "stream",
     "text": [
      "                             song_name               artist_name   played_at  \\\n",
      "0                             Budapest               George Ezra  2022-03-28   \n",
      "1            Blame (feat. John Newman)             Calvin Harris  2022-03-28   \n",
      "2      Waves - Robin Schulz Radio Edit                 Mr. Probz  2022-03-28   \n",
      "3                                 Gomd                   Sickick  2022-03-28   \n",
      "4                              Pompeii                  Bastille  2022-03-28   \n",
      "5                                Faded               Alan Walker  2022-03-28   \n",
      "6            Here Comes the Hotstepper           Various Artists  2022-03-18   \n",
      "7                               Angels           Robbie Williams  2022-03-18   \n",
      "8                             Bailando                 Paradisio  2022-03-18   \n",
      "9                         It Wasn't Me                    Shaggy  2022-03-18   \n",
      "10                      Cotton Eye Joe                    Rednex  2022-03-18   \n",
      "11                                Torn         Natalie Imbruglia  2022-03-07   \n",
      "12                  Gangsta's Paradise                    Coolio  2022-03-07   \n",
      "13                             Believe                      Cher  2022-03-07   \n",
      "14                             Wannabe               Spice Girls  2022-03-07   \n",
      "15               ...Baby One More Time            Britney Spears  2022-03-07   \n",
      "16  California Love - Original Version                      2Pac  2022-03-07   \n",
      "17                             Kiss Me  Sixpence None The Richer  2022-03-07   \n",
      "18                        Still D.R.E.                   Dr. Dre  2022-03-07   \n",
      "19                        Still D.R.E.                   Dr. Dre  2022-03-06   \n",
      "\n",
      "     timestamp  \n",
      "0   2022-03-28  \n",
      "1   2022-03-28  \n",
      "2   2022-03-28  \n",
      "3   2022-03-28  \n",
      "4   2022-03-28  \n",
      "5   2022-03-28  \n",
      "6   2022-03-18  \n",
      "7   2022-03-18  \n",
      "8   2022-03-18  \n",
      "9   2022-03-18  \n",
      "10  2022-03-18  \n",
      "11  2022-03-07  \n",
      "12  2022-03-07  \n",
      "13  2022-03-07  \n",
      "14  2022-03-07  \n",
      "15  2022-03-07  \n",
      "16  2022-03-07  \n",
      "17  2022-03-07  \n",
      "18  2022-03-07  \n",
      "19  2022-03-06  \n"
     ]
    }
   ],
   "source": [
    "if __name__ == \"__main__\":\n",
    "\n",
    "    headers = {\n",
    "        \"Accept\" : \"application/json\",\n",
    "        \"Content-Type\" : \"application/json\",\n",
    "        \"Authorization\" : \"Bearer {token}\".format(token=TOKEN)\n",
    "    }\n",
    "\n",
    "    today = datetime.datetime.now()\n",
    "    yesterday = today - datetime.timedelta(days=1)\n",
    "    yesterday_unix_timestamp = int(yesterday.timestamp())\n",
    "\n",
    "    r = requests.get(\"https://api.spotify.com/v1/me/player/recently-played?after={time}\".format(time=yesterday_unix_timestamp), headers = headers)\n",
    "\n",
    "    data = r.json()\n",
    "\n",
    "    song_names = []\n",
    "    artist_names = []\n",
    "    played_at_list = []\n",
    "    timestamps = []\n",
    "\n",
    "\n",
    "    for song in data[\"items\"]:\n",
    "        song_names.append(song[\"track\"][\"name\"])\n",
    "        artist_names.append(song[\"track\"][\"album\"][\"artists\"][0][\"name\"])\n",
    "        played_at_list.append(song[\"played_at\"][0:10])\n",
    "        timestamps.append(song[\"played_at\"][0:10])\n",
    "\n",
    "    song_dict = {\n",
    "        \"song_name\" : song_names,\n",
    "        \"artist_name\" : artist_names,\n",
    "        \"played_at\" : played_at_list,\n",
    "        \"timestamp\" : timestamps\n",
    "    }\n",
    "\n",
    "\n",
    "    song_df = pd.DataFrame(song_dict, columns = [\"song_name\", \"artist_name\", \"played_at\", \"timestamp\"])\n",
    "    \n",
    "    print(song_df)\n",
    "\n"
   ]
  }
 ],
 "metadata": {
  "interpreter": {
   "hash": "c18c2ee729c76021a030a434cc517af1d5f25ae4da8fe842493212de1e15757b"
  },
  "kernelspec": {
   "display_name": "Python 3.10.2 64-bit",
   "language": "python",
   "name": "python3"
  },
  "language_info": {
   "codemirror_mode": {
    "name": "ipython",
    "version": 3
   },
   "file_extension": ".py",
   "mimetype": "text/x-python",
   "name": "python",
   "nbconvert_exporter": "python",
   "pygments_lexer": "ipython3",
   "version": "3.10.2"
  },
  "orig_nbformat": 4
 },
 "nbformat": 4,
 "nbformat_minor": 2
}
