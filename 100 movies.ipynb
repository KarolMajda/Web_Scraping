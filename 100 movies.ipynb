{
 "cells": [
  {
   "cell_type": "code",
   "execution_count": null,
   "metadata": {},
   "outputs": [],
   "source": [
    "# import the libraries needed\n",
    "import requests\n",
    "from bs4 import BeautifulSoup\n",
    "\n",
    "#URL of the website\n",
    "URL = \"https://web.archive.org/web/20200518073855/https://www.empireonline.com/movies/features/best-movies-2/\"\n",
    "\n",
    "# Create a request from the website to pull the data in text format\n",
    "response = requests.get(URL)\n",
    "website_html = response.text\n",
    "\n",
    "# The website is in HTML format html.parser is needed to\n",
    "soup = BeautifulSoup(website_html, \"html.parser\")\n",
    "\n",
    "# Taking down everything inside h3 with class called title\n",
    "all_movies = soup.find_all(name=\"h3\", class_=\"title\")\n",
    "\n",
    "# Choose only the title in text format\n",
    "movie_titles = [m.getText() for m in all_movies]\n",
    "\n",
    "# The list starts from 100 so we need to revert it\n",
    "movies = movie_titles[:: -1]\n",
    "\n",
    "# Create a txt file in your repository with all the titles\n",
    "with open(\"movies.txt\", mode=\"w\") as file:\n",
    "    for movie in movies:\n",
    "        file.write(f\"{movie}\\n\")"
   ]
  }
 ],
 "metadata": {
  "interpreter": {
   "hash": "c18c2ee729c76021a030a434cc517af1d5f25ae4da8fe842493212de1e15757b"
  },
  "kernelspec": {
   "display_name": "Python 3.10.2 64-bit",
   "language": "python",
   "name": "python3"
  },
  "language_info": {
   "name": "python",
   "version": "3.10.2"
  },
  "orig_nbformat": 4
 },
 "nbformat": 4,
 "nbformat_minor": 2
}
